{
 "cells": [
  {
   "cell_type": "markdown",
   "id": "e3a4b2f4",
   "metadata": {},
   "source": [
    "# Problem Statement 2"
   ]
  },
  {
   "cell_type": "markdown",
   "id": "47880dec",
   "metadata": {},
   "source": [
    "Drugs are generally administered/prescribed by the physicians for a certain period of time or they are administered at regular intervals, but for various reasons patients might stop taking the treatment . Consider following example for better understanding. Let’s say you get a throat infection, the physician prescribes you an antibiotic for 10 days, but you stop taking the treatment after 3 days because of some adverse events. In the above example ideal treatment duration is 10 days but patients stopped taking treatment after 3 days due to adverse events. Patients stopping a treatment is called dropoff. We want to study dropoff for “Target Drug”, the aim is to generate insights on what events lead to patients stopping on “Target Drug”. Assume ideal treatment duration for “Target Drug” is 1 year, come up with analysis showing how drop-off rate is, dropoff rate is defined as number of patients dropping off each month. Then come up with analysis to generate insights on what events are driving a patient to stop taking “Target Drug”."
   ]
  },
  {
   "cell_type": "code",
   "execution_count": 1,
   "id": "7ef7ab85",
   "metadata": {},
   "outputs": [],
   "source": [
    "# Importing the necessary libraries\n",
    "import pandas as pd\n",
    "import matplotlib.pyplot as plt"
   ]
  },
  {
   "cell_type": "code",
   "execution_count": 1,
   "id": "cc165c73",
   "metadata": {},
   "outputs": [
    {
     "name": "stdout",
     "output_type": "stream",
     "text": [
      "Requirement already satisfied: pyarrow in c:\\users\\tamilarasu16\\appdata\\local\\programs\\python\\python310\\lib\\site-packages (12.0.0)\n",
      "Requirement already satisfied: numpy>=1.16.6 in c:\\users\\tamilarasu16\\appdata\\local\\programs\\python\\python310\\lib\\site-packages (from pyarrow) (1.23.4)\n"
     ]
    }
   ],
   "source": [
    "# to load the parquet file first we need to install pyarrow package\n",
    "! pip install pyarrow"
   ]
  },
  {
   "cell_type": "code",
   "execution_count": 4,
   "id": "8d8b1102",
   "metadata": {},
   "outputs": [],
   "source": [
    "# Loading the data\n",
    "train_data_df = pd.read_parquet('Train.parquet')"
   ]
  },
  {
   "cell_type": "markdown",
   "id": "6f8cc752",
   "metadata": {},
   "source": [
    "We are going to follow the same preprocessing techniques as we used earlier."
   ]
  },
  {
   "cell_type": "code",
   "execution_count": 5,
   "id": "d26d8fee",
   "metadata": {},
   "outputs": [
    {
     "data": {
      "text/html": [
       "<div>\n",
       "<style scoped>\n",
       "    .dataframe tbody tr th:only-of-type {\n",
       "        vertical-align: middle;\n",
       "    }\n",
       "\n",
       "    .dataframe tbody tr th {\n",
       "        vertical-align: top;\n",
       "    }\n",
       "\n",
       "    .dataframe thead th {\n",
       "        text-align: right;\n",
       "    }\n",
       "</style>\n",
       "<table border=\"1\" class=\"dataframe\">\n",
       "  <thead>\n",
       "    <tr style=\"text-align: right;\">\n",
       "      <th></th>\n",
       "      <th>Patient-Uid</th>\n",
       "      <th>Date</th>\n",
       "      <th>Incident</th>\n",
       "    </tr>\n",
       "  </thead>\n",
       "  <tbody>\n",
       "    <tr>\n",
       "      <th>0</th>\n",
       "      <td>a0db1e73-1c7c-11ec-ae39-16262ee38c7f</td>\n",
       "      <td>2019-03-09</td>\n",
       "      <td>PRIMARY_DIAGNOSIS</td>\n",
       "    </tr>\n",
       "    <tr>\n",
       "      <th>1</th>\n",
       "      <td>a0dc93f2-1c7c-11ec-9cd2-16262ee38c7f</td>\n",
       "      <td>2015-05-16</td>\n",
       "      <td>PRIMARY_DIAGNOSIS</td>\n",
       "    </tr>\n",
       "    <tr>\n",
       "      <th>3</th>\n",
       "      <td>a0dc94c6-1c7c-11ec-a3a0-16262ee38c7f</td>\n",
       "      <td>2018-01-30</td>\n",
       "      <td>SYMPTOM_TYPE_0</td>\n",
       "    </tr>\n",
       "    <tr>\n",
       "      <th>4</th>\n",
       "      <td>a0dc950b-1c7c-11ec-b6ec-16262ee38c7f</td>\n",
       "      <td>2015-04-22</td>\n",
       "      <td>DRUG_TYPE_0</td>\n",
       "    </tr>\n",
       "    <tr>\n",
       "      <th>8</th>\n",
       "      <td>a0dc9543-1c7c-11ec-bb63-16262ee38c7f</td>\n",
       "      <td>2016-06-18</td>\n",
       "      <td>DRUG_TYPE_1</td>\n",
       "    </tr>\n",
       "    <tr>\n",
       "      <th>...</th>\n",
       "      <td>...</td>\n",
       "      <td>...</td>\n",
       "      <td>...</td>\n",
       "    </tr>\n",
       "    <tr>\n",
       "      <th>29080886</th>\n",
       "      <td>a0ee9f75-1c7c-11ec-94c7-16262ee38c7f</td>\n",
       "      <td>2018-07-06</td>\n",
       "      <td>DRUG_TYPE_6</td>\n",
       "    </tr>\n",
       "    <tr>\n",
       "      <th>29080897</th>\n",
       "      <td>a0ee1284-1c7c-11ec-a3d5-16262ee38c7f</td>\n",
       "      <td>2017-12-29</td>\n",
       "      <td>DRUG_TYPE_6</td>\n",
       "    </tr>\n",
       "    <tr>\n",
       "      <th>29080900</th>\n",
       "      <td>a0ee9b26-1c7c-11ec-8a40-16262ee38c7f</td>\n",
       "      <td>2018-10-18</td>\n",
       "      <td>DRUG_TYPE_10</td>\n",
       "    </tr>\n",
       "    <tr>\n",
       "      <th>29080903</th>\n",
       "      <td>a0ee1a92-1c7c-11ec-8341-16262ee38c7f</td>\n",
       "      <td>2015-09-18</td>\n",
       "      <td>DRUG_TYPE_6</td>\n",
       "    </tr>\n",
       "    <tr>\n",
       "      <th>29080911</th>\n",
       "      <td>a0ee146e-1c7c-11ec-baee-16262ee38c7f</td>\n",
       "      <td>2018-10-05</td>\n",
       "      <td>DRUG_TYPE_1</td>\n",
       "    </tr>\n",
       "  </tbody>\n",
       "</table>\n",
       "<p>3220868 rows × 3 columns</p>\n",
       "</div>"
      ],
      "text/plain": [
       "                                   Patient-Uid       Date           Incident\n",
       "0         a0db1e73-1c7c-11ec-ae39-16262ee38c7f 2019-03-09  PRIMARY_DIAGNOSIS\n",
       "1         a0dc93f2-1c7c-11ec-9cd2-16262ee38c7f 2015-05-16  PRIMARY_DIAGNOSIS\n",
       "3         a0dc94c6-1c7c-11ec-a3a0-16262ee38c7f 2018-01-30     SYMPTOM_TYPE_0\n",
       "4         a0dc950b-1c7c-11ec-b6ec-16262ee38c7f 2015-04-22        DRUG_TYPE_0\n",
       "8         a0dc9543-1c7c-11ec-bb63-16262ee38c7f 2016-06-18        DRUG_TYPE_1\n",
       "...                                        ...        ...                ...\n",
       "29080886  a0ee9f75-1c7c-11ec-94c7-16262ee38c7f 2018-07-06        DRUG_TYPE_6\n",
       "29080897  a0ee1284-1c7c-11ec-a3d5-16262ee38c7f 2017-12-29        DRUG_TYPE_6\n",
       "29080900  a0ee9b26-1c7c-11ec-8a40-16262ee38c7f 2018-10-18       DRUG_TYPE_10\n",
       "29080903  a0ee1a92-1c7c-11ec-8341-16262ee38c7f 2015-09-18        DRUG_TYPE_6\n",
       "29080911  a0ee146e-1c7c-11ec-baee-16262ee38c7f 2018-10-05        DRUG_TYPE_1\n",
       "\n",
       "[3220868 rows x 3 columns]"
      ]
     },
     "execution_count": 5,
     "metadata": {},
     "output_type": "execute_result"
    }
   ],
   "source": [
    "# to view the data \n",
    "train_data_df"
   ]
  },
  {
   "cell_type": "code",
   "execution_count": 6,
   "id": "bb700491",
   "metadata": {},
   "outputs": [
    {
     "data": {
      "text/html": [
       "<div>\n",
       "<style scoped>\n",
       "    .dataframe tbody tr th:only-of-type {\n",
       "        vertical-align: middle;\n",
       "    }\n",
       "\n",
       "    .dataframe tbody tr th {\n",
       "        vertical-align: top;\n",
       "    }\n",
       "\n",
       "    .dataframe thead th {\n",
       "        text-align: right;\n",
       "    }\n",
       "</style>\n",
       "<table border=\"1\" class=\"dataframe\">\n",
       "  <thead>\n",
       "    <tr style=\"text-align: right;\">\n",
       "      <th></th>\n",
       "      <th>Patient-Uid</th>\n",
       "      <th>Date</th>\n",
       "      <th>Incident</th>\n",
       "    </tr>\n",
       "  </thead>\n",
       "  <tbody>\n",
       "    <tr>\n",
       "      <th>0</th>\n",
       "      <td>a0db1e73-1c7c-11ec-ae39-16262ee38c7f</td>\n",
       "      <td>2019-03-09</td>\n",
       "      <td>PRIMARY_DIAGNOSIS</td>\n",
       "    </tr>\n",
       "    <tr>\n",
       "      <th>1</th>\n",
       "      <td>a0dc93f2-1c7c-11ec-9cd2-16262ee38c7f</td>\n",
       "      <td>2015-05-16</td>\n",
       "      <td>PRIMARY_DIAGNOSIS</td>\n",
       "    </tr>\n",
       "    <tr>\n",
       "      <th>3</th>\n",
       "      <td>a0dc94c6-1c7c-11ec-a3a0-16262ee38c7f</td>\n",
       "      <td>2018-01-30</td>\n",
       "      <td>SYMPTOM_TYPE_0</td>\n",
       "    </tr>\n",
       "    <tr>\n",
       "      <th>4</th>\n",
       "      <td>a0dc950b-1c7c-11ec-b6ec-16262ee38c7f</td>\n",
       "      <td>2015-04-22</td>\n",
       "      <td>DRUG_TYPE_0</td>\n",
       "    </tr>\n",
       "    <tr>\n",
       "      <th>8</th>\n",
       "      <td>a0dc9543-1c7c-11ec-bb63-16262ee38c7f</td>\n",
       "      <td>2016-06-18</td>\n",
       "      <td>DRUG_TYPE_1</td>\n",
       "    </tr>\n",
       "  </tbody>\n",
       "</table>\n",
       "</div>"
      ],
      "text/plain": [
       "                            Patient-Uid       Date           Incident\n",
       "0  a0db1e73-1c7c-11ec-ae39-16262ee38c7f 2019-03-09  PRIMARY_DIAGNOSIS\n",
       "1  a0dc93f2-1c7c-11ec-9cd2-16262ee38c7f 2015-05-16  PRIMARY_DIAGNOSIS\n",
       "3  a0dc94c6-1c7c-11ec-a3a0-16262ee38c7f 2018-01-30     SYMPTOM_TYPE_0\n",
       "4  a0dc950b-1c7c-11ec-b6ec-16262ee38c7f 2015-04-22        DRUG_TYPE_0\n",
       "8  a0dc9543-1c7c-11ec-bb63-16262ee38c7f 2016-06-18        DRUG_TYPE_1"
      ]
     },
     "execution_count": 6,
     "metadata": {},
     "output_type": "execute_result"
    }
   ],
   "source": [
    "# To get the first 5 rows\n",
    "train_data_df.head()"
   ]
  },
  {
   "cell_type": "code",
   "execution_count": 7,
   "id": "59d2ddca",
   "metadata": {},
   "outputs": [
    {
     "data": {
      "text/html": [
       "<div>\n",
       "<style scoped>\n",
       "    .dataframe tbody tr th:only-of-type {\n",
       "        vertical-align: middle;\n",
       "    }\n",
       "\n",
       "    .dataframe tbody tr th {\n",
       "        vertical-align: top;\n",
       "    }\n",
       "\n",
       "    .dataframe thead th {\n",
       "        text-align: right;\n",
       "    }\n",
       "</style>\n",
       "<table border=\"1\" class=\"dataframe\">\n",
       "  <thead>\n",
       "    <tr style=\"text-align: right;\">\n",
       "      <th></th>\n",
       "      <th>Patient-Uid</th>\n",
       "      <th>Date</th>\n",
       "      <th>Incident</th>\n",
       "    </tr>\n",
       "  </thead>\n",
       "  <tbody>\n",
       "    <tr>\n",
       "      <th>29080886</th>\n",
       "      <td>a0ee9f75-1c7c-11ec-94c7-16262ee38c7f</td>\n",
       "      <td>2018-07-06</td>\n",
       "      <td>DRUG_TYPE_6</td>\n",
       "    </tr>\n",
       "    <tr>\n",
       "      <th>29080897</th>\n",
       "      <td>a0ee1284-1c7c-11ec-a3d5-16262ee38c7f</td>\n",
       "      <td>2017-12-29</td>\n",
       "      <td>DRUG_TYPE_6</td>\n",
       "    </tr>\n",
       "    <tr>\n",
       "      <th>29080900</th>\n",
       "      <td>a0ee9b26-1c7c-11ec-8a40-16262ee38c7f</td>\n",
       "      <td>2018-10-18</td>\n",
       "      <td>DRUG_TYPE_10</td>\n",
       "    </tr>\n",
       "    <tr>\n",
       "      <th>29080903</th>\n",
       "      <td>a0ee1a92-1c7c-11ec-8341-16262ee38c7f</td>\n",
       "      <td>2015-09-18</td>\n",
       "      <td>DRUG_TYPE_6</td>\n",
       "    </tr>\n",
       "    <tr>\n",
       "      <th>29080911</th>\n",
       "      <td>a0ee146e-1c7c-11ec-baee-16262ee38c7f</td>\n",
       "      <td>2018-10-05</td>\n",
       "      <td>DRUG_TYPE_1</td>\n",
       "    </tr>\n",
       "  </tbody>\n",
       "</table>\n",
       "</div>"
      ],
      "text/plain": [
       "                                   Patient-Uid       Date      Incident\n",
       "29080886  a0ee9f75-1c7c-11ec-94c7-16262ee38c7f 2018-07-06   DRUG_TYPE_6\n",
       "29080897  a0ee1284-1c7c-11ec-a3d5-16262ee38c7f 2017-12-29   DRUG_TYPE_6\n",
       "29080900  a0ee9b26-1c7c-11ec-8a40-16262ee38c7f 2018-10-18  DRUG_TYPE_10\n",
       "29080903  a0ee1a92-1c7c-11ec-8341-16262ee38c7f 2015-09-18   DRUG_TYPE_6\n",
       "29080911  a0ee146e-1c7c-11ec-baee-16262ee38c7f 2018-10-05   DRUG_TYPE_1"
      ]
     },
     "execution_count": 7,
     "metadata": {},
     "output_type": "execute_result"
    }
   ],
   "source": [
    "# to get the last 5 rows\n",
    "train_data_df.tail()"
   ]
  },
  {
   "cell_type": "code",
   "execution_count": 8,
   "id": "8006ec4f",
   "metadata": {},
   "outputs": [
    {
     "data": {
      "text/plain": [
       "(3220868, 3)"
      ]
     },
     "execution_count": 8,
     "metadata": {},
     "output_type": "execute_result"
    }
   ],
   "source": [
    "# to get the shape of the dataset\n",
    "train_data_df.shape"
   ]
  },
  {
   "cell_type": "code",
   "execution_count": 9,
   "id": "ba50bc35",
   "metadata": {},
   "outputs": [
    {
     "name": "stdout",
     "output_type": "stream",
     "text": [
      "<class 'pandas.core.frame.DataFrame'>\n",
      "Int64Index: 3220868 entries, 0 to 29080911\n",
      "Data columns (total 3 columns):\n",
      " #   Column       Dtype         \n",
      "---  ------       -----         \n",
      " 0   Patient-Uid  object        \n",
      " 1   Date         datetime64[ns]\n",
      " 2   Incident     object        \n",
      "dtypes: datetime64[ns](1), object(2)\n",
      "memory usage: 98.3+ MB\n"
     ]
    }
   ],
   "source": [
    "# to get the basic information of the dataset\n",
    "train_data_df.info()"
   ]
  },
  {
   "cell_type": "code",
   "execution_count": 10,
   "id": "47148f58",
   "metadata": {},
   "outputs": [
    {
     "data": {
      "text/plain": [
       "Patient-Uid    27033\n",
       "Date            1977\n",
       "Incident          57\n",
       "dtype: int64"
      ]
     },
     "execution_count": 10,
     "metadata": {},
     "output_type": "execute_result"
    }
   ],
   "source": [
    "# to get the unique values\n",
    "train_data_df.nunique()"
   ]
  },
  {
   "cell_type": "code",
   "execution_count": 11,
   "id": "9f3f1b41",
   "metadata": {},
   "outputs": [
    {
     "data": {
      "text/plain": [
       "Index(['Patient-Uid', 'Date', 'Incident'], dtype='object')"
      ]
     },
     "execution_count": 11,
     "metadata": {},
     "output_type": "execute_result"
    }
   ],
   "source": [
    "# to get the feature name\n",
    "train_data_df.columns"
   ]
  },
  {
   "cell_type": "code",
   "execution_count": 12,
   "id": "ffe2c1cc",
   "metadata": {},
   "outputs": [
    {
     "data": {
      "text/plain": [
       "Patient-Uid            object\n",
       "Date           datetime64[ns]\n",
       "Incident               object\n",
       "dtype: object"
      ]
     },
     "execution_count": 12,
     "metadata": {},
     "output_type": "execute_result"
    }
   ],
   "source": [
    "# to get the data types\n",
    "train_data_df.dtypes"
   ]
  },
  {
   "cell_type": "code",
   "execution_count": 13,
   "id": "64ac7a2f",
   "metadata": {},
   "outputs": [
    {
     "data": {
      "text/plain": [
       "Patient-Uid    0\n",
       "Date           0\n",
       "Incident       0\n",
       "dtype: int64"
      ]
     },
     "execution_count": 13,
     "metadata": {},
     "output_type": "execute_result"
    }
   ],
   "source": [
    "# to check if there is any null values present in the dataset\n",
    "train_data_df.isnull().sum()"
   ]
  },
  {
   "cell_type": "code",
   "execution_count": 14,
   "id": "9d51153d",
   "metadata": {},
   "outputs": [
    {
     "data": {
      "text/plain": [
       "35571"
      ]
     },
     "execution_count": 14,
     "metadata": {},
     "output_type": "execute_result"
    }
   ],
   "source": [
    "# to check if there is any duplicate values\n",
    "train_data_df.duplicated().sum()"
   ]
  },
  {
   "cell_type": "code",
   "execution_count": 15,
   "id": "382e64e2",
   "metadata": {},
   "outputs": [],
   "source": [
    "# to drop the duplicate values\n",
    "train_data_df.drop_duplicates(inplace = True)"
   ]
  },
  {
   "cell_type": "code",
   "execution_count": 16,
   "id": "c2688f2f",
   "metadata": {},
   "outputs": [
    {
     "data": {
      "text/plain": [
       "(3185297, 3)"
      ]
     },
     "execution_count": 16,
     "metadata": {},
     "output_type": "execute_result"
    }
   ],
   "source": [
    "# to check if the values are dropped, we can confirm with the shape function\n",
    "train_data_df.shape"
   ]
  },
  {
   "cell_type": "code",
   "execution_count": 17,
   "id": "53361366",
   "metadata": {},
   "outputs": [],
   "source": [
    "# to filter the data for patients who have taken the Target Drug\n",
    "target_drug_data = train_data_df[train_data_df['Incident'] == 'TARGET DRUG']"
   ]
  },
  {
   "cell_type": "code",
   "execution_count": 18,
   "id": "50144306",
   "metadata": {},
   "outputs": [],
   "source": [
    "# to calculate the drop off rate per month\n",
    "dropoff_rate = target_drug_data['Date'].dt.to_period('M').value_counts().sort_index()"
   ]
  },
  {
   "cell_type": "code",
   "execution_count": 19,
   "id": "fe7e1209",
   "metadata": {},
   "outputs": [
    {
     "data": {
      "image/png": "[encoded data removed]",
      "text/plain": [
       "<Figure size 1000x600 with 1 Axes>"
      ]
     },
     "metadata": {},
     "output_type": "display_data"
    }
   ],
   "source": [
    "# to visualize the drop off rate over time\n",
    "plt.figure(figsize = (10, 6))\n",
    "dropoff_rate.plot(kind='bar')\n",
    "plt.xlabel('Month')\n",
    "plt.ylabel('Drop-off Count')\n",
    "plt.title('Drop-off Rate of Target Drug')\n",
    "plt.show()"
   ]
  },
  {
   "cell_type": "code",
   "execution_count": 21,
   "id": "2301acf7",
   "metadata": {},
   "outputs": [],
   "source": [
    "# to analyze events driving dropp-off\n",
    "dropoff_reasons = train_data_df[train_data_df['Patient-Uid'].isin(target_drug_data['Patient-Uid'])]\n",
    "dropoff_reasons = dropoff_reasons[dropoff_reasons['Date'] < dropoff_reasons.groupby('Patient-Uid')['Date'].transform('max')]\n",
    "dropoff_reasons = dropoff_reasons[dropoff_reasons['Incident'] != 'TARGET DRUG']"
   ]
  },
  {
   "cell_type": "code",
   "execution_count": 22,
   "id": "f4b8839b",
   "metadata": {},
   "outputs": [],
   "source": [
    "# to calculate the frequency of each event leading to drop-off\n",
    "event_frequency = dropoff_reasons['Incident'].value_counts()"
   ]
  },
  {
   "cell_type": "code",
   "execution_count": 23,
   "id": "078d7654",
   "metadata": {},
   "outputs": [
    {
     "data": {
      "image/png": "[encoded data removed]",
      "text/plain": [
       "<Figure size 1000x600 with 1 Axes>"
      ]
     },
     "metadata": {},
     "output_type": "display_data"
    }
   ],
   "source": [
    "# Plot the events leading to drop-off\n",
    "plt.figure(figsize=(10, 6))\n",
    "event_frequency.plot(kind='bar')\n",
    "plt.xlabel('Event')\n",
    "plt.ylabel('Frequency')\n",
    "plt.title('Events Leading to Drop-off of Target Drug')\n",
    "plt.show()"
   ]
  },
  {
   "cell_type": "code",
   "execution_count": null,
   "id": "cb171f45",
   "metadata": {},
   "outputs": [],
   "source": []
  }
 ],
 "metadata": {
  "kernelspec": {
   "display_name": "Python 3 (ipykernel)",
   "language": "python",
   "name": "python3"
  },
  "language_info": {
   "codemirror_mode": {
    "name": "ipython",
    "version": 3
   },
   "file_extension": ".py",
   "mimetype": "text/x-python",
   "name": "python",
   "nbconvert_exporter": "python",
   "pygments_lexer": "ipython3",
   "version": "3.10.7"
  }
 },
 "nbformat": 4,
 "nbformat_minor": 5
}
